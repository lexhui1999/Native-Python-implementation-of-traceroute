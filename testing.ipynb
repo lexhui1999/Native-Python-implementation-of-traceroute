{
 "cells": [
  {
   "cell_type": "code",
   "execution_count": null,
   "id": "d177e971",
   "metadata": {},
   "outputs": [],
   "source": []
  },
  {
   "cell_type": "code",
   "execution_count": 36,
   "id": "4d8bb1dd",
   "metadata": {},
   "outputs": [],
   "source": [
    "def checksum_calc(lol):\n",
    "\n",
    "\t\tdef carry_around_add(a, b):\n",
    "\t\t\tc = a + b\n",
    "\t\t\treturn (c & 0xffff) + (c >> 16)\n",
    "\n",
    "\t\tdef checksum(msg):\n",
    "\t\t\ts = 0\n",
    "\t\t\tfor i in range(0, len(msg), 2):\n",
    "\t\t\t\tw = ord(msg[i]) + (ord(msg[i+1]) << 8)\n",
    "\t\t\t\ts = carry_around_add(s, w)\n",
    "\t\t\treturn ~s & 0xffff\n",
    "\n",
    "\t\treturn checksum(lol)"
   ]
  },
  {
   "cell_type": "code",
   "execution_count": 37,
   "id": "3f727bc7",
   "metadata": {},
   "outputs": [
    {
     "name": "stdout",
     "output_type": "stream",
     "text": [
      "61433\n"
     ]
    }
   ],
   "source": [
    "print(checksum_calc(\"asdfshdjhc\"))"
   ]
  },
  {
   "cell_type": "code",
   "execution_count": null,
   "id": "a1280a90",
   "metadata": {},
   "outputs": [],
   "source": []
  }
 ],
 "metadata": {
  "kernelspec": {
   "display_name": "Python 3 (ipykernel)",
   "language": "python",
   "name": "python3"
  },
  "language_info": {
   "codemirror_mode": {
    "name": "ipython",
    "version": 3
   },
   "file_extension": ".py",
   "mimetype": "text/x-python",
   "name": "python",
   "nbconvert_exporter": "python",
   "pygments_lexer": "ipython3",
   "version": "3.10.4"
  }
 },
 "nbformat": 4,
 "nbformat_minor": 5
}
